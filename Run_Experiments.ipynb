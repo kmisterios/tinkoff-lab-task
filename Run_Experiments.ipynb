{
 "cells": [
  {
   "cell_type": "code",
   "execution_count": 1,
   "id": "89ac25e5",
   "metadata": {},
   "outputs": [
    {
     "name": "stderr",
     "output_type": "stream",
     "text": [
      "/Users/misha/Documents/Tinkoff lab/envTinkoffNew/lib/python3.9/site-packages/tqdm/auto.py:22: TqdmWarning: IProgress not found. Please update jupyter and ipywidgets. See https://ipywidgets.readthedocs.io/en/stable/user_install.html\n",
      "  from .autonotebook import tqdm as notebook_tqdm\n"
     ]
    }
   ],
   "source": [
    "from datasets import load_dataset\n",
    "from utils.utils import prepare_data, create_dataloaders\n",
    "import json\n",
    "from transformers import AutoModel\n",
    "import numpy as np\n",
    "from utils.multitask_dataloader import MultitaskDataLoader\n",
    "from model.train_eval import train, evaluate"
   ]
  },
  {
   "cell_type": "code",
   "execution_count": 4,
   "id": "3602a495",
   "metadata": {},
   "outputs": [],
   "source": [
    "datasets = {\n",
    "    \"cola\" : load_dataset(\"glue\", \"cola\"),\n",
    "    \"sst2\" : load_dataset(\"glue\", \"sst2\"),\n",
    "    \"rte\" : load_dataset(\"glue\", \"rte\")\n",
    "}"
   ]
  },
  {
   "cell_type": "markdown",
   "id": "87f174da",
   "metadata": {},
   "source": [
    "### Как подготовить данные\n",
    "\n",
    "Чтобы подготовить данные, нужно указать 2 параметра: <code>mode</code>, <code>augmentation</code>. Первый может принимать три значения:\n",
    "```python\n",
    "\"singleHead\", \"multiHead\", \"singleTask\"\n",
    "```\n",
    "Первый - для мультизадачного классификатора с одной головой. Второй - с тремя, для каждой задачи своя. Третий - для монозадачного классификатора. \n",
    "\n",
    "Параметр <code>augmentation</code> влияет на то, будет ли сделана аугментация данных. Также, можно указать, какую часть от исходного размера датасета добавить при аугментации (<code>augmentation_proportion</code>), и размер уменьшенного датасета (<code>subset_size</code>), который можно использовать, чтобы проверить, работают ли методы."
   ]
  },
  {
   "cell_type": "code",
   "execution_count": 6,
   "id": "5bf09c37",
   "metadata": {},
   "outputs": [],
   "source": [
    "data = prepare_data(datasets, \n",
    "                    subset_size = 1.0, \n",
    "                    mode = \"singleHead\", \n",
    "                    augmentation = False, \n",
    "                    augmentation_proportion = 0.25)"
   ]
  },
  {
   "cell_type": "markdown",
   "id": "247decf3",
   "metadata": {},
   "source": [
    "### Как запускать эксперименты\n",
    "Чтобы запустить эксперименты, нужно указать метод (<code>method</code>) и параметр <code>task_names</code>, который указывает на то, какие датасеты подаются в dataloader. Для мультизадачных экспериментов нужно подавать названия всех задач (<code>list(data.keys())</code>). Для однозадачных - название одной задачи в списке. Например \n",
    "```python\n",
    "task_names = [\"cola\"] # [\"sst2\"],[\"rte\"]\n",
    "```\n",
    "Метод может принимать следующие значения:\n",
    "```python\n",
    "\"SingleHeadMultitask\", \"MultiHeadMultitask\", \"cola_Singletask\", \"sst2_Singletask\", \"rte_Singletask\"\n",
    "```\n",
    "\n",
    "Также, можно менять название модели предобученного трансформер-енкодера (<code>model_name</code>).\n",
    "\n",
    "Другие модели можно поискать на [Hugging Face](https://huggingface.co)."
   ]
  },
  {
   "cell_type": "code",
   "execution_count": 4,
   "id": "47034105",
   "metadata": {},
   "outputs": [],
   "source": [
    "with open(\"./model/config.json\", \"r\") as f:\n",
    "    config = json.load(f)"
   ]
  },
  {
   "cell_type": "code",
   "execution_count": null,
   "id": "8c532fd6",
   "metadata": {},
   "outputs": [],
   "source": [
    "model_name = \"bert-base-uncased\" # это можно менять\n",
    "method = \"SingleHeadMultitask\" # это можно менять\n",
    "task_names = list(data.keys()) # это можно менять"
   ]
  },
  {
   "cell_type": "code",
   "execution_count": null,
   "id": "77c9932a",
   "metadata": {},
   "outputs": [],
   "source": [
    "#несколько assert-ов на всякий случай\n",
    "assert method in config, f\"There is no such method. Valid methods: {list(config.keys())}\"\n",
    "valid_task_names = [list(data.keys())] + [[key] for key in data]\n",
    "assert task_names in valid_task_names, f\"task_names should be one of {valid_task_names}\"\n",
    "if config[method][\"mode\"] == \"singletask\":\n",
    "    assert len(task_names) == 1, \"You should enter one of singletask task names\"\n",
    "else:\n",
    "    assert len(task_names) == 3, \"You should enter one of multitask task names\""
   ]
  },
  {
   "cell_type": "code",
   "execution_count": 16,
   "id": "d18c1c18",
   "metadata": {},
   "outputs": [],
   "source": [
    "checkpoints_path = \"./checkpoints\"\n",
    "results = {name : [] for name in task_names}\n",
    "for i in range(3):\n",
    "    model = AutoModel.from_pretrained(model_name)\n",
    "    dataloaders = create_dataloaders(data, batch_sizes = config[method][\"batch_sizes\"], model_name = model_name)\n",
    "    if config[method][\"mode\"] != \"singletask\":\n",
    "        train_dataloader = MultitaskDataLoader(task_names, dataloaders[\"train\"])\n",
    "        valid_dataloader = MultitaskDataLoader(task_names, dataloaders[\"validation\"])\n",
    "    else:\n",
    "        task_index = config[method][\"task_index\"]\n",
    "        train_dataloader = MultitaskDataLoader(task_names, [dataloaders[\"train\"][task_index]])\n",
    "        valid_dataloader = MultitaskDataLoader(task_names, [dataloaders[\"validation\"][task_index]])\n",
    "    train(train_dataloader,\n",
    "          valid_dataloader,\n",
    "          model, \n",
    "          config[method],\n",
    "          method_name = method,\n",
    "          checkpoints_path = checkpoints_path,\n",
    "         )\n",
    "    \n",
    "    for i, task_name in enumerate(task_names):\n",
    "        valid_dataloader = MultitaskDataLoader([task_name], [dataloaders[\"validation\"][i]])\n",
    "        score = evaluate(\n",
    "                valid_dataloader,\n",
    "                model,\n",
    "                method_name = method, \n",
    "                checkpoints_path = checkpoints_path, \n",
    "                config = config[method])\n",
    "        results[task_name].append(score)"
   ]
  },
  {
   "cell_type": "code",
   "execution_count": 9,
   "id": "959d5857",
   "metadata": {},
   "outputs": [],
   "source": [
    "for name in task_names:\n",
    "    print(f\"Score for {method} for {name}: {np.mean(results[name])} +- {np.std(results[name])}\")"
   ]
  }
 ],
 "metadata": {
  "kernelspec": {
   "display_name": "envTinkoffNew",
   "language": "python",
   "name": "envtinkoffnew"
  },
  "language_info": {
   "codemirror_mode": {
    "name": "ipython",
    "version": 3
   },
   "file_extension": ".py",
   "mimetype": "text/x-python",
   "name": "python",
   "nbconvert_exporter": "python",
   "pygments_lexer": "ipython3",
   "version": "3.9.6"
  }
 },
 "nbformat": 4,
 "nbformat_minor": 5
}
